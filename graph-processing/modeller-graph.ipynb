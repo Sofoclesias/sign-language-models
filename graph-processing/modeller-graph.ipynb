{
 "cells": [
  {
   "cell_type": "markdown",
   "metadata": {},
   "source": [
    "### Antes de correr este archivo, asegúrate de tener todos los datasets del atributo y confirmar que están bien construidos.\n",
    "\n",
    "Este archivo notebook deja preparada una plantilla con todas las instrucciones para entrenar cada modelo de clasificación. En este caso, la técnica de interés ha sido {func}.\n",
    "Cada celda comprende un modelo de clasificación. La idea de trabajarlo en notebook es que, de quererlo, puedas hacer más exploraciones e indagaciones del modelo resultante.\n",
    "\n",
    "Los atributos de interés son:\n",
    "* object.modelo: permite utilizar el objeto de sklearn para predecir.\n",
    "* self.train_set y self.test_set: lista con división de variables X e Y. La posición 0 corresponde a los datos de entrada; 1, a los de salida.\n",
    "* self.train_report y self.test_report: para observar los resultados de precisión."
   ]
  },
  {
   "cell_type": "code",
   "execution_count": null,
   "metadata": {},
   "outputs": [],
   "source": [
    "import QoL as qol\n",
    "import warnings\n",
    "warnings.filterwarnings('ignore')"
   ]
  },
  {
   "cell_type": "markdown",
   "metadata": {},
   "source": [
    "### K-Nearest Neighbors"
   ]
  },
  {
   "cell_type": "markdown",
   "metadata": {},
   "source": [
    "1. Cargar los datos de la técnica al entrenador. Se hace también una revisión de los datos corruptos en el dataset y la cantidad de letras con la que se cuenta."
   ]
  },
  {
   "cell_type": "code",
   "execution_count": null,
   "metadata": {},
   "outputs": [],
   "source": [
    "knn = qol.model_trainer(tecnica='graph',modelo='knn')\n",
    "knn.class_counts()"
   ]
  },
  {
   "cell_type": "code",
   "execution_count": null,
   "metadata": {},
   "outputs": [],
   "source": [
    "%%time\n",
    "knn.train_model()\n",
    "knn.generate_error_reports()\n",
    "knn.export_model()\n",
    "knn.modelo"
   ]
  },
  {
   "cell_type": "markdown",
   "metadata": {},
   "source": [
    "Acá saldrán unos mensajes de excepciones, probablemente, debido a los multiprocesos que hace sklearn. No es nada de qué preocuparse, salvo genere ya un error de ejecución.\n",
    "\n",
    "Listo, modelo creado."
   ]
  },
  {
   "cell_type": "markdown",
   "metadata": {},
   "source": [
    "### Random Forest"
   ]
  },
  {
   "cell_type": "markdown",
   "metadata": {},
   "source": [
    "1. Cargar los datos de la técnica al entrenador. Se hace también una revisión de los datos corruptos en el dataset y la cantidad de letras con la que se cuenta."
   ]
  },
  {
   "cell_type": "code",
   "execution_count": null,
   "metadata": {},
   "outputs": [],
   "source": [
    "rf = qol.model_trainer(tecnica='graph',modelo='rf')\n",
    "rf.class_counts()"
   ]
  },
  {
   "cell_type": "code",
   "execution_count": null,
   "metadata": {},
   "outputs": [],
   "source": [
    "%%time\n",
    "rf.train_model()\n",
    "rf.generate_error_reports()\n",
    "rf.export_model()\n",
    "rf.modelo"
   ]
  },
  {
   "cell_type": "markdown",
   "metadata": {},
   "source": [
    "Acá saldrán unos mensajes de excepciones, probablemente, debido a los multiprocesos que hace sklearn. No es nada de qué preocuparse, salvo genere ya un error de ejecución.\n",
    "\n",
    "Listo, modelo creado."
   ]
  },
  {
   "cell_type": "markdown",
   "metadata": {},
   "source": [
    "### Artificial Neural Network"
   ]
  },
  {
   "cell_type": "markdown",
   "metadata": {},
   "source": [
    "1. Cargar los datos de la técnica al entrenador. Se hace también una revisión de los datos corruptos en el dataset y la cantidad de letras con la que se cuenta."
   ]
  },
  {
   "cell_type": "code",
   "execution_count": null,
   "metadata": {},
   "outputs": [],
   "source": [
    "ann = qol.model_trainer(tecnica='graph',modelo='ann')\n",
    "ann.class_counts()"
   ]
  },
  {
   "cell_type": "code",
   "execution_count": null,
   "metadata": {},
   "outputs": [],
   "source": [
    "%%time\n",
    "ann.train_model()\n",
    "ann.generate_error_reports()\n",
    "ann.export_model()\n",
    "ann.modelo"
   ]
  },
  {
   "cell_type": "markdown",
   "metadata": {},
   "source": [
    "Acá saldrán unos mensajes de excepciones, probablemente, debido a los multiprocesos que hace sklearn. No es nada de qué preocuparse, salvo genere ya un error de ejecución.\n",
    "\n",
    "Listo, modelo creado."
   ]
  }
 ],
 "metadata": {
  "kernelspec": {
   "display_name": "base",
   "language": "python",
   "name": "python3"
  },
  "language_info": {
   "codemirror_mode": {
    "name": "ipython",
    "version": 3
   },
   "file_extension": ".py",
   "mimetype": "text/x-python",
   "name": "python",
   "nbconvert_exporter": "python",
   "pygments_lexer": "ipython3",
   "version": "3.11.4"
  }
 },
 "nbformat": 4,
 "nbformat_minor": 2
}
